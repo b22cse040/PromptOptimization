{
 "cells": [
  {
   "cell_type": "code",
   "id": "initial_id",
   "metadata": {
    "collapsed": true,
    "ExecuteTime": {
     "end_time": "2025-07-14T20:36:49.266780Z",
     "start_time": "2025-07-14T20:36:49.256351Z"
    }
   },
   "source": [
    "from dotenv import load_dotenv\n",
    "load_dotenv()"
   ],
   "outputs": [
    {
     "data": {
      "text/plain": [
       "True"
      ]
     },
     "execution_count": 1,
     "metadata": {},
     "output_type": "execute_result"
    }
   ],
   "execution_count": 1
  },
  {
   "metadata": {
    "ExecuteTime": {
     "end_time": "2025-07-14T20:42:13.776123Z",
     "start_time": "2025-07-14T20:42:07.364518Z"
    }
   },
   "cell_type": "code",
   "source": [
    "import requests, os\n",
    "import json\n",
    "\n",
    "response = requests.post(\n",
    "  url=\"https://openrouter.ai/api/v1/chat/completions\",\n",
    "  headers={\n",
    "    \"Content-Type\": \"application/json\",\n",
    "    \"Authorization\": \"Bearer \" + os.getenv(\"OPENROUTER_API_KEY\")\n",
    "  },\n",
    "  data=json.dumps({\n",
    "    \"model\": \"deepseek/deepseek-r1-0528-qwen3-8b:free\",\n",
    "    \"messages\" : [\n",
    "      {\n",
    "        \"role\" : \"user\",\n",
    "        \"content\" : \"What is the meaning of life?\"\n",
    "      }\n",
    "    ],\n",
    "  })\n",
    ")\n",
    "\n",
    "print(response.json())"
   ],
   "id": "aa7d149b079ebf62",
   "outputs": [
    {
     "name": "stdout",
     "output_type": "stream",
     "text": [
      "{'id': 'gen-1752525727-iv3c5PfooxHImwK2olUM', 'provider': 'Chutes', 'model': 'deepseek/deepseek-r1-0528-qwen3-8b:free', 'object': 'chat.completion', 'created': 1752525727, 'choices': [{'logprobs': None, 'finish_reason': 'stop', 'native_finish_reason': 'stop', 'index': 0, 'message': {'role': 'assistant', 'content': 'The meaning of life is one of the oldest and most profound questions in philosophy. Different perspectives offer varying answers:\\n\\n1. **Biological**: Life\\'s purpose could be survival, reproduction, and passing on genes—ensuring the continuation of the species.\\n\\n2. **Religious/Atheistic**: Some believe the meaning of life is to serve a higher power, achieve enlightenment, or fulfill a divine plan, while others see it as existing purely for random cosmic chance.\\n\\n3. **Philosophical**: Thinkers like Nietzsche and Camus explored this. Nietzsche suggested creating your *own* meaning, while Camus argued life is inherently meaningless (an \"absurd\" void), but we can rebel against this void by living fully without denying it.\\n\\n4. **Scientific**: Evolution defines life as a biological phenomenon, reducing \"meaning\" to survival and adaptability, but this doesn\\'t capture the human desire for purpose.\\n\\n5. **Humanist**: Many find meaning in relationships, contributing to society, personal growth, or alleviating suffering.\\n\\nIn the end, there is no single answer—only exploration. What gives life meaning to *you*? Purpose can be discovered through love, work, creativity, or simply embracing the fleeting, beautiful chaos of existence.', 'refusal': None, 'reasoning': 'Hmm, \"What is the meaning of life?\" Such a classic question. User\\'s probably looking for some existential guidance rather than a literal biological explanation - this is clearly a philosophical inquiry. \\n\\nWondering about the context here... Could be a young adult going through life transitions, or someone facing personal challenges. The vagueness suggests they might not want a clinical answer but something that resonates emotionally while still being thoughtful. \\n\\nThere are multiple layers I could approach:\\nThe scientific perspective (biological purpose) - but that feels too reductionist for this query\\nThe religious framework - but that might not align with user\\'s beliefs\\nThe humanist/philosophical angle - seems most balanced, acknowledging both structure and freedom\\nIncluding some poetic/random elements too since the question itself is somewhat abstract\\n\\nNeed to balance depth with accessibility - no jargon, but not simplistic either. Should acknowledge the uncertainty while offering constructive possibilities. The \"existential void\" reference might help frame this as a universal human experience rather than just my opinion.\\n\\nInteresting how I naturally organized it from structured (biological/religious) to open-ended (philosophical/random). That progression mirrors how people often approach big questions - starting with concrete frameworks before embracing ambiguity. \\n\\nShould maintain an open tone at the end - not prescribing answers, just reflecting what philosophers throughout history have contemplated. The \"choose your own meaning\" bit might be important psychologically; it subtly shifts from \"here are answers\" to \"here are ways to explore\" which is healthier long-term.\\n'}}], 'usage': {'prompt_tokens': 12, 'completion_tokens': 561, 'total_tokens': 573}}\n"
     ]
    }
   ],
   "execution_count": 4
  },
  {
   "metadata": {
    "ExecuteTime": {
     "end_time": "2025-07-14T20:44:01.708067Z",
     "start_time": "2025-07-14T20:44:01.705196Z"
    }
   },
   "cell_type": "code",
   "source": [
    "reply = response.json()[\"choices\"][0][\"message\"][\"content\"]\n",
    "print(reply)"
   ],
   "id": "255632c54a06161e",
   "outputs": [
    {
     "name": "stdout",
     "output_type": "stream",
     "text": [
      "The meaning of life is one of the oldest and most profound questions in philosophy. Different perspectives offer varying answers:\n",
      "\n",
      "1. **Biological**: Life's purpose could be survival, reproduction, and passing on genes—ensuring the continuation of the species.\n",
      "\n",
      "2. **Religious/Atheistic**: Some believe the meaning of life is to serve a higher power, achieve enlightenment, or fulfill a divine plan, while others see it as existing purely for random cosmic chance.\n",
      "\n",
      "3. **Philosophical**: Thinkers like Nietzsche and Camus explored this. Nietzsche suggested creating your *own* meaning, while Camus argued life is inherently meaningless (an \"absurd\" void), but we can rebel against this void by living fully without denying it.\n",
      "\n",
      "4. **Scientific**: Evolution defines life as a biological phenomenon, reducing \"meaning\" to survival and adaptability, but this doesn't capture the human desire for purpose.\n",
      "\n",
      "5. **Humanist**: Many find meaning in relationships, contributing to society, personal growth, or alleviating suffering.\n",
      "\n",
      "In the end, there is no single answer—only exploration. What gives life meaning to *you*? Purpose can be discovered through love, work, creativity, or simply embracing the fleeting, beautiful chaos of existence.\n"
     ]
    }
   ],
   "execution_count": 6
  }
 ],
 "metadata": {
  "kernelspec": {
   "display_name": "Python 3",
   "language": "python",
   "name": "python3"
  },
  "language_info": {
   "codemirror_mode": {
    "name": "ipython",
    "version": 2
   },
   "file_extension": ".py",
   "mimetype": "text/x-python",
   "name": "python",
   "nbconvert_exporter": "python",
   "pygments_lexer": "ipython2",
   "version": "2.7.6"
  }
 },
 "nbformat": 4,
 "nbformat_minor": 5
}
